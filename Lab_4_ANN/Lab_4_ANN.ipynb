{
 "cells": [
  {
   "cell_type": "code",
   "execution_count": 1,
   "metadata": {},
   "outputs": [],
   "source": [
    "import os\n",
    "import pandas as pd\n",
    "import numpy as np\n",
    "import matplotlib.pyplot as plt\n",
    "import seaborn as sns\n",
    "from PIL import Image"
   ]
  },
  {
   "cell_type": "markdown",
   "metadata": {},
   "source": [
    "Loading Dataset"
   ]
  },
  {
   "cell_type": "code",
   "execution_count": 2,
   "metadata": {},
   "outputs": [
    {
     "data": {
      "text/html": [
       "<div>\n",
       "<style scoped>\n",
       "    .dataframe tbody tr th:only-of-type {\n",
       "        vertical-align: middle;\n",
       "    }\n",
       "\n",
       "    .dataframe tbody tr th {\n",
       "        vertical-align: top;\n",
       "    }\n",
       "\n",
       "    .dataframe thead th {\n",
       "        text-align: right;\n",
       "    }\n",
       "</style>\n",
       "<table border=\"1\" class=\"dataframe\">\n",
       "  <thead>\n",
       "    <tr style=\"text-align: right;\">\n",
       "      <th></th>\n",
       "      <th>suite_id</th>\n",
       "      <th>sample_id</th>\n",
       "      <th>code</th>\n",
       "      <th>value</th>\n",
       "      <th>character</th>\n",
       "    </tr>\n",
       "  </thead>\n",
       "  <tbody>\n",
       "    <tr>\n",
       "      <th>0</th>\n",
       "      <td>1</td>\n",
       "      <td>1</td>\n",
       "      <td>10</td>\n",
       "      <td>9</td>\n",
       "      <td>九</td>\n",
       "    </tr>\n",
       "    <tr>\n",
       "      <th>1</th>\n",
       "      <td>1</td>\n",
       "      <td>10</td>\n",
       "      <td>10</td>\n",
       "      <td>9</td>\n",
       "      <td>九</td>\n",
       "    </tr>\n",
       "    <tr>\n",
       "      <th>2</th>\n",
       "      <td>1</td>\n",
       "      <td>2</td>\n",
       "      <td>10</td>\n",
       "      <td>9</td>\n",
       "      <td>九</td>\n",
       "    </tr>\n",
       "    <tr>\n",
       "      <th>3</th>\n",
       "      <td>1</td>\n",
       "      <td>3</td>\n",
       "      <td>10</td>\n",
       "      <td>9</td>\n",
       "      <td>九</td>\n",
       "    </tr>\n",
       "    <tr>\n",
       "      <th>4</th>\n",
       "      <td>1</td>\n",
       "      <td>4</td>\n",
       "      <td>10</td>\n",
       "      <td>9</td>\n",
       "      <td>九</td>\n",
       "    </tr>\n",
       "    <tr>\n",
       "      <th>...</th>\n",
       "      <td>...</td>\n",
       "      <td>...</td>\n",
       "      <td>...</td>\n",
       "      <td>...</td>\n",
       "      <td>...</td>\n",
       "    </tr>\n",
       "    <tr>\n",
       "      <th>14995</th>\n",
       "      <td>99</td>\n",
       "      <td>5</td>\n",
       "      <td>9</td>\n",
       "      <td>8</td>\n",
       "      <td>八</td>\n",
       "    </tr>\n",
       "    <tr>\n",
       "      <th>14996</th>\n",
       "      <td>99</td>\n",
       "      <td>6</td>\n",
       "      <td>9</td>\n",
       "      <td>8</td>\n",
       "      <td>八</td>\n",
       "    </tr>\n",
       "    <tr>\n",
       "      <th>14997</th>\n",
       "      <td>99</td>\n",
       "      <td>7</td>\n",
       "      <td>9</td>\n",
       "      <td>8</td>\n",
       "      <td>八</td>\n",
       "    </tr>\n",
       "    <tr>\n",
       "      <th>14998</th>\n",
       "      <td>99</td>\n",
       "      <td>8</td>\n",
       "      <td>9</td>\n",
       "      <td>8</td>\n",
       "      <td>八</td>\n",
       "    </tr>\n",
       "    <tr>\n",
       "      <th>14999</th>\n",
       "      <td>99</td>\n",
       "      <td>9</td>\n",
       "      <td>9</td>\n",
       "      <td>8</td>\n",
       "      <td>八</td>\n",
       "    </tr>\n",
       "  </tbody>\n",
       "</table>\n",
       "<p>15000 rows × 5 columns</p>\n",
       "</div>"
      ],
      "text/plain": [
       "       suite_id  sample_id  code  value character\n",
       "0             1          1    10      9         九\n",
       "1             1         10    10      9         九\n",
       "2             1          2    10      9         九\n",
       "3             1          3    10      9         九\n",
       "4             1          4    10      9         九\n",
       "...         ...        ...   ...    ...       ...\n",
       "14995        99          5     9      8         八\n",
       "14996        99          6     9      8         八\n",
       "14997        99          7     9      8         八\n",
       "14998        99          8     9      8         八\n",
       "14999        99          9     9      8         八\n",
       "\n",
       "[15000 rows x 5 columns]"
      ]
     },
     "execution_count": 2,
     "metadata": {},
     "output_type": "execute_result"
    }
   ],
   "source": [
    "df = pd.read_csv('E:\\\\Datamining\\\\archive\\\\chinese_mnist.csv')\n",
    "df"
   ]
  },
  {
   "cell_type": "code",
   "execution_count": null,
   "metadata": {},
   "outputs": [],
   "source": [
    "bar_data = df['value'].value_counts()"
   ]
  },
  {
   "cell_type": "code",
   "execution_count": null,
   "metadata": {},
   "outputs": [],
   "source": [
    "sns.barplot(bar_data)\n",
    "plt.xlabel('Character')\n",
    "plt.ylabel('Number of Images')\n",
    "plt.xticks(rotation = 90)\n",
    "plt.show()"
   ]
  },
  {
   "cell_type": "code",
   "execution_count": 3,
   "metadata": {},
   "outputs": [],
   "source": [
    "def process_image(img_path):\n",
    "    # Load the image\n",
    "    img = Image.open(img_path)\n",
    "    # Convert the image to grayscale (if needed)\n",
    "    img = img.convert('L')\n",
    "    # Resize the image to a fixed size (e.g., 64x64)\n",
    "    img = img.resize((32, 32))\n",
    "    # Convert image to numpy array\n",
    "    img_array = np.array(img)\n",
    "    # Flatten the image to 1D array\n",
    "    img_flattened = img_array.flatten()\n",
    "    return img_flattened"
   ]
  },
  {
   "cell_type": "code",
   "execution_count": 4,
   "metadata": {},
   "outputs": [],
   "source": [
    "images = []\n",
    "labels = []\n",
    "\n",
    "for idx, row in df.iterrows():\n",
    "    img_filename = f\"input_{row['suite_id']}_{row['sample_id']}_{row['code']}.jpg\"\n",
    "    img_path = os.path.join('E:\\\\dataMining\\\\archive\\\\data', img_filename)\n",
    "    img_flattened = process_image(img_path)\n",
    "    images.append(img_flattened)\n",
    "    labels.append(row['value'])  #'value' is the label you want to predict\n",
    "\n",
    "images = np.array(images)\n",
    "labels = np.array(labels)"
   ]
  },
  {
   "cell_type": "code",
   "execution_count": 5,
   "metadata": {},
   "outputs": [
    {
     "data": {
      "text/plain": [
       "(15000, 1024)"
      ]
     },
     "execution_count": 5,
     "metadata": {},
     "output_type": "execute_result"
    }
   ],
   "source": [
    "images.shape"
   ]
  },
  {
   "cell_type": "code",
   "execution_count": 6,
   "metadata": {},
   "outputs": [
    {
     "data": {
      "text/plain": [
       "<matplotlib.image.AxesImage at 0x1d8736f2520>"
      ]
     },
     "execution_count": 6,
     "metadata": {},
     "output_type": "execute_result"
    },
    {
     "data": {
      "image/png": "[encoded data removed]",
      "text/plain": [
       "<Figure size 640x480 with 1 Axes>"
      ]
     },
     "metadata": {},
     "output_type": "display_data"
    }
   ],
   "source": [
    "plt.imshow(images[700].reshape(32,32))"
   ]
  },
  {
   "cell_type": "code",
   "execution_count": 7,
   "metadata": {},
   "outputs": [
    {
     "data": {
      "text/plain": [
       "9"
      ]
     },
     "execution_count": 7,
     "metadata": {},
     "output_type": "execute_result"
    }
   ],
   "source": [
    "labels[700]"
   ]
  },
  {
   "cell_type": "code",
   "execution_count": 8,
   "metadata": {},
   "outputs": [
    {
     "data": {
      "text/plain": [
       "<matplotlib.image.AxesImage at 0x1d8747a8fd0>"
      ]
     },
     "execution_count": 8,
     "metadata": {},
     "output_type": "execute_result"
    },
    {
     "data": {
      "image/png": "[encoded data removed]",
      "text/plain": [
       "<Figure size 640x480 with 1 Axes>"
      ]
     },
     "metadata": {},
     "output_type": "display_data"
    }
   ],
   "source": [
    "plt.imshow(images[0].reshape(32,32))"
   ]
  },
  {
   "cell_type": "code",
   "execution_count": 5,
   "metadata": {},
   "outputs": [],
   "source": [
    "images = images / 255.0"
   ]
  },
  {
   "cell_type": "code",
   "execution_count": 10,
   "metadata": {},
   "outputs": [
    {
     "data": {
      "text/plain": [
       "<matplotlib.image.AxesImage at 0x1d8747a8e50>"
      ]
     },
     "execution_count": 10,
     "metadata": {},
     "output_type": "execute_result"
    },
    {
     "data": {
      "image/png": "[encoded data removed]",
      "text/plain": [
       "<Figure size 640x480 with 1 Axes>"
      ]
     },
     "metadata": {},
     "output_type": "display_data"
    }
   ],
   "source": [
    "plt.imshow(images[0].reshape(32,32))"
   ]
  },
  {
   "cell_type": "code",
   "execution_count": 6,
   "metadata": {},
   "outputs": [],
   "source": [
    "# Combine images and labels to shuffle them together\n",
    "combined = list(zip(images, labels))\n",
    "np.random.shuffle(combined)\n",
    "images[:], labels[:] = zip(*combined)"
   ]
  },
  {
   "cell_type": "code",
   "execution_count": 7,
   "metadata": {},
   "outputs": [],
   "source": [
    "# Define the split ratio\n",
    "split_ratio = 0.8\n",
    "split_index = int(len(images) * split_ratio)\n",
    "\n",
    "# Split the images and labels into training and testing sets\n",
    "X_train = images[:split_index]\n",
    "X_test = images[split_index:]\n",
    "y_train = labels[:split_index]\n",
    "y_test = labels[split_index:]"
   ]
  },
  {
   "cell_type": "code",
   "execution_count": 8,
   "metadata": {},
   "outputs": [],
   "source": [
    "X_train = X_train.T\n",
    "X_test = X_test.T"
   ]
  },
  {
   "cell_type": "code",
   "execution_count": null,
   "metadata": {},
   "outputs": [],
   "source": [
    "def init_params(input_size, hidden_layer_size, output_size):\n",
    "    W1 = np.random.uniform(-0.5, 0.5, (hidden_layer_size, input_size)) \n",
    "    W2 = np.random.uniform(-0.5, 0.5, (output_size, hidden_layer_size))\n",
    "    b1 = np.random.uniform(-0.5, 0.5, (hidden_layer_size, 1))          \n",
    "    b2 = np.random.uniform(-0.5, 0.5, (output_size, 1))     \n",
    "\n",
    "    return W1, b1, W2, b2"
   ]
  },
  {
   "cell_type": "code",
   "execution_count": null,
   "metadata": {},
   "outputs": [],
   "source": [
    "def xavier_params(input_size, hidden_layer_size, output_size):\n",
    "    np.random.seed(42)\n",
    "    \n",
    "    W1 = np.random.randn(hidden_layer_size, input_size) * np.sqrt(2 / (hidden_layer_size + input_size))\n",
    "    b1 = np.zeros((hidden_layer_size, 1))\n",
    "    \n",
    "    W2 = np.random.randn(output_size, hidden_layer_size) * np.sqrt(2 / (output_size + hidden_layer_size))\n",
    "    b2 = np.zeros((output_size, 1))\n",
    "    \n",
    "    return W1, b1, W2, b2"
   ]
  },
  {
   "cell_type": "code",
   "execution_count": null,
   "metadata": {},
   "outputs": [],
   "source": [
    "def kaiming_params(input_size, hidden_layer_size, output_size):\n",
    "    np.random.seed(42)\n",
    "    \n",
    "    W1 = np.random.randn(hidden_layer_size, input_size) * np.sqrt(2 / input_size)\n",
    "    b1 = np.zeros((hidden_layer_size, 1))\n",
    "    \n",
    "    W2 = np.random.randn(output_size, hidden_layer_size) * np.sqrt(2 / hidden_layer_size)\n",
    "    b2 = np.zeros((output_size, 1))\n",
    "    \n",
    "    return W1, b1, W2, b2"
   ]
  },
  {
   "cell_type": "code",
   "execution_count": 17,
   "metadata": {},
   "outputs": [],
   "source": [
    "def ReLU(z):\n",
    "    return np.maximum(z,0)"
   ]
  },
  {
   "cell_type": "code",
   "execution_count": 18,
   "metadata": {},
   "outputs": [],
   "source": [
    "def d_ReLU(z):\n",
    "    l1 = []\n",
    "    for i in z:\n",
    "        if i >= 0:\n",
    "            l1.append(1) \n",
    "        else:\n",
    "            l1.append(0)\n",
    "    return np.array(l1)"
   ]
  },
  {
   "cell_type": "code",
   "execution_count": 21,
   "metadata": {},
   "outputs": [],
   "source": [
    "def softmax(z):\n",
    "    return np.exp(z)/sum(np.exp(z))"
   ]
  },
  {
   "cell_type": "code",
   "execution_count": null,
   "metadata": {},
   "outputs": [],
   "source": [
    "def forward_prop(X, W1, b1, W2, b2):\n",
    "    Z1 = np.dot(W1, X) + b1 \n",
    "    A1 = ReLU(Z1)\n",
    "\n",
    "    Z2 = np.dot(W2, A1) + b2 \n",
    "    A2 = softmax(Z2)\n",
    "    \n",
    "    return Z1, A1, Z2, A2 "
   ]
  },
  {
   "cell_type": "code",
   "execution_count": 9,
   "metadata": {},
   "outputs": [],
   "source": [
    "def one_hot(x):\n",
    "    categories, inverse = np.unique(x, return_inverse=True)\n",
    "    one = np.zeros((x.size,categories.size), dtype = int)\n",
    "    one[np.arange(x.size), inverse] = 1\n",
    "    return one"
   ]
  },
  {
   "cell_type": "code",
   "execution_count": null,
   "metadata": {},
   "outputs": [],
   "source": [
    "def cross_entropy_loss(y_true, y_pred):\n",
    "    # Clip predictions to avoid log(0) errors\n",
    "    y_pred = np.clip(y_pred, 1e-15, 1 - 1e-15)\n",
    "    # Compute the loss\n",
    "    loss = -np.sum(y_true * np.log(y_pred)) / y_true.shape[1]\n",
    "    return loss"
   ]
  },
  {
   "cell_type": "code",
   "execution_count": null,
   "metadata": {},
   "outputs": [],
   "source": [
    "def backpropagation(X, y_true, W1, b1, W2, b2, learning_rate):\n",
    "    \n",
    "    # Forward pass\n",
    "    Z1, A1, _, A2 = forward_prop(X, W1, b1, W2, b2)\n",
    "    # Compute loss\n",
    "    #loss = cross_entropy_loss(y_true, A2)\n",
    "    \n",
    "    # Backward pass\n",
    "    m = X.shape[1]  # Number of examples\n",
    "    \n",
    "    # Compute gradients\n",
    "    dZ2 = A2 - y_true.T\n",
    "    dW2 = np.dot(dZ2, A1.T) / m\n",
    "    db2 = np.sum(dZ2, axis=1, keepdims=True) / m\n",
    "    \n",
    "    #dA1 = np.dot(W2.T, dZ2)\n",
    "    #dZ1 = dA1 * d_ReLU(Z1) #w2.Tdotdz2 elementwise relu(z1)\n",
    "    dZ1 = np.dot(W2.T, dZ2) * ReLU(Z1)\n",
    "    dW1 = np.dot(dZ1, X.T) / m\n",
    "    db1 = np.sum(dZ1, axis=1, keepdims=True) / m\n",
    "    \n",
    "    # Update weights and biases\n",
    "    W1 -= learning_rate * dW1\n",
    "    b1 -= learning_rate * db1\n",
    "    W2 -= learning_rate * dW2\n",
    "    b2 -= learning_rate * db2\n",
    "    \n",
    "    \n",
    "    return W1, b1, W2, b2"
   ]
  },
  {
   "cell_type": "code",
   "execution_count": null,
   "metadata": {},
   "outputs": [],
   "source": [
    "def train(X_train, y_train, input_size, hidden_layer_size, output_size, epochs, learning_rate):\n",
    "    # Initialize parameters\n",
    "    W1, b1, W2, b2 = kaiming_params(input_size, hidden_layer_size, output_size)\n",
    "    \n",
    "    for epoch in range(epochs):\n",
    "        # Perform backpropagation and update parameters\n",
    "        W1, b1, W2, b2 = backpropagation(X_train, y_train, W1, b1, W2, b2, learning_rate)\n",
    "        \n",
    "        # Print loss every 100 epochs\n",
    "        print(evaluate(X_train, y_train, W1, b1, W2, b2))\n",
    "        print(f'Epoch {epoch}')\n",
    "                \n",
    "    \n",
    "    return W1, b1, W2, b2"
   ]
  },
  {
   "cell_type": "code",
   "execution_count": null,
   "metadata": {},
   "outputs": [],
   "source": [
    "def evaluate(X_test, y_test, W1, b1, W2, b2):\n",
    "    \n",
    "    # Forward pass\n",
    "    _, _, _, A2 = forward_prop(X_test, W1, b1, W2, b2)\n",
    "    \n",
    "    # Predictions\n",
    "    predictions = np.argmax(A2, axis=0)\n",
    "    true_labels = np.argmax(y_test.T, axis=0)\n",
    "    #np.sum(predictions == Y) / Y.size\n",
    "    # Compute accuracy\n",
    "    accuracy = np.mean(predictions == true_labels)\n",
    "    return accuracy"
   ]
  },
  {
   "cell_type": "code",
   "execution_count": null,
   "metadata": {},
   "outputs": [],
   "source": [
    "# Define hyperparameters            \n",
    "input_size = 64 * 64          # Size of each image (64x64 flattened)\n",
    "hidden_layer_size = 128       # Number of neurons in the hidden layer\n",
    "output_size = 15              # Number of output classes\n",
    "epochs = 100              # Number of epochs for training\n",
    "learning_rate = 0.01          # Learning rate"
   ]
  },
  {
   "cell_type": "code",
   "execution_count": 10,
   "metadata": {},
   "outputs": [],
   "source": [
    "y_train = one_hot(y_train)\n",
    "y_label = y_test\n",
    "y_test = one_hot(y_test)"
   ]
  },
  {
   "cell_type": "code",
   "execution_count": 22,
   "metadata": {},
   "outputs": [
    {
     "data": {
      "text/plain": [
       "(12000, 15)"
      ]
     },
     "execution_count": 22,
     "metadata": {},
     "output_type": "execute_result"
    }
   ],
   "source": [
    "y_train.shape"
   ]
  },
  {
   "cell_type": "code",
   "execution_count": null,
   "metadata": {},
   "outputs": [],
   "source": [
    "W1, b1, W2, b2 = train(X_train, y_train, input_size, hidden_layer_size, output_size, epochs, learning_rate)"
   ]
  },
  {
   "cell_type": "code",
   "execution_count": null,
   "metadata": {},
   "outputs": [],
   "source": []
  },
  {
   "cell_type": "code",
   "execution_count": 11,
   "metadata": {},
   "outputs": [],
   "source": [
    "def xavier_initialization(input_size, num_hidden_layers, initial_hidden_layer_size, output_size):\n",
    "\n",
    "    params = {}\n",
    "    layer_sizes = [input_size]\n",
    "\n",
    "    # Calculate the size of each hidden layer\n",
    "    for i in range(num_hidden_layers):\n",
    "        hidden_layer_size = initial_hidden_layer_size // (2 ** i)\n",
    "        layer_sizes.append(hidden_layer_size)\n",
    "\n",
    "    layer_sizes.append(output_size)\n",
    "\n",
    "    # Initialize weights and biases\n",
    "    for i in range(len(layer_sizes) - 1):\n",
    "        n_l = layer_sizes[i + 1]\n",
    "        n_l_prev = layer_sizes[i]\n",
    "        # Xavier initialization for weights\n",
    "        params[f'W{i+1}'] = np.random.randn(n_l, n_l_prev) * np.sqrt(1 / n_l_prev)\n",
    "        # Biases initialized to zeros\n",
    "        params[f'b{i+1}'] = np.zeros((n_l, 1))\n",
    "\n",
    "    return params\n"
   ]
  },
  {
   "cell_type": "code",
   "execution_count": 12,
   "metadata": {},
   "outputs": [],
   "source": [
    "def kaiming_initialization(input_size, num_hidden_layers, initial_hidden_layer_size, output_size):\n",
    "    \n",
    "    params = {}\n",
    "    layer_sizes = [input_size]\n",
    "\n",
    "    # Calculate the size of each hidden layer\n",
    "    for i in range(num_hidden_layers):\n",
    "        hidden_layer_size = initial_hidden_layer_size // (2 ** i)\n",
    "        layer_sizes.append(hidden_layer_size)\n",
    "\n",
    "    layer_sizes.append(output_size)\n",
    "\n",
    "    # Initialize weights and biases\n",
    "    for i in range(len(layer_sizes) - 1):\n",
    "        n_l = layer_sizes[i + 1]\n",
    "        n_l_prev = layer_sizes[i]\n",
    "        # Kaiming initialization for weights\n",
    "        params[f'W{i+1}'] = np.random.randn(n_l, n_l_prev) * np.sqrt(2 / n_l_prev)\n",
    "        # Biases initialized to zeros\n",
    "        params[f'b{i+1}'] = np.zeros((n_l, 1))\n",
    "\n",
    "    return params\n"
   ]
  },
  {
   "cell_type": "code",
   "execution_count": 25,
   "metadata": {},
   "outputs": [],
   "source": [
    "def dSoftmax(vector):\n",
    "    vector = np.array(vector)\n",
    "    s = softmax(vector)\n",
    "    return s * (1 - s)"
   ]
  },
  {
   "cell_type": "code",
   "execution_count": 13,
   "metadata": {},
   "outputs": [],
   "source": [
    "def ReLU2(Z):\n",
    "    return np.maximum(0, Z)\n",
    "\n",
    "def d_ReLU2(Z):\n",
    "    return np.where(Z > 0, 1, 0)"
   ]
  },
  {
   "cell_type": "code",
   "execution_count": 27,
   "metadata": {},
   "outputs": [],
   "source": [
    "def evaluate2(X, y_true, params):\n",
    "    caches = forward_prop2(X, params)\n",
    "    A_last = caches[f'A{len(params)//2}']\n",
    "    predictions = np.argmax(A_last, axis=0)\n",
    "    accuracy = np.mean(predictions == np.argmax(y_true, axis=1))\n",
    "    return accuracy"
   ]
  },
  {
   "cell_type": "code",
   "execution_count": 28,
   "metadata": {},
   "outputs": [],
   "source": [
    "def evaluate_test_data(X_test, y_test, params):\n",
    "    # Forward propagation on test data\n",
    "    caches = forward_prop2(X_test, params)\n",
    "    \n",
    "    # Extract the final activation from caches\n",
    "    A_test = caches[f'A{len(params) // 2}']\n",
    "    \n",
    "    # Convert A_test to predictions\n",
    "    predictions = np.argmax(A_test, axis=0)\n",
    "    \n",
    "    # Ensure y_test is a 1D array\n",
    "    y_test = np.squeeze(y_test)\n",
    "    \n",
    "    # Calculate accuracy\n",
    "    accuracy = np.mean(predictions == y_test) * 100\n",
    "    \n",
    "    return accuracy\n"
   ]
  },
  {
   "cell_type": "code",
   "execution_count": null,
   "metadata": {},
   "outputs": [],
   "source": [
    "def forward_prop2(X, params):\n",
    "    caches = {}\n",
    "    A = X\n",
    "    caches['A0'] = A  # Store the input data\n",
    "    \n",
    "    num_layers = len(params) // 2  # Number of layers (excluding input layer)\n",
    "    \n",
    "    for i in range(1, num_layers):\n",
    "        W = params[f'W{i}'].astype(np.float32)\n",
    "        b = params[f'b{i}'].astype(np.float32)\n",
    "        Z = np.dot(W, A) + b\n",
    "        A = ReLU2(Z)\n",
    "        caches[f'Z{i}'] = Z\n",
    "        caches[f'A{i}'] = A\n",
    "    \n",
    "    # Output layer\n",
    "    W = params[f'W{num_layers}']\n",
    "    b = params[f'b{num_layers}']\n",
    "    Z = np.dot(W, A) + b\n",
    "    A = softmax(Z)\n",
    "    caches[f'Z{num_layers}'] = Z\n",
    "    caches[f'A{num_layers}'] = A\n",
    "    \n",
    "    return caches"
   ]
  },
  {
   "cell_type": "code",
   "execution_count": null,
   "metadata": {},
   "outputs": [],
   "source": [
    "def backpropagation2(X, y_true, params, learning_rate):\n",
    "    caches = forward_prop2(X, params)\n",
    "    grads = {}\n",
    "    num_layers = len(params) // 2\n",
    "    \n",
    "    # Compute gradients for output layer\n",
    "    A_last = caches[f'A{num_layers}']\n",
    "    Z_last = caches[f'Z{num_layers}']\n",
    "    dZ = A_last - y_true.T\n",
    "    grads[f'dW{num_layers}'] = np.dot(dZ, caches[f'A{num_layers-1}'].T) / X.shape[1]\n",
    "    grads[f'db{num_layers}'] = np.sum(dZ, axis=1, keepdims=True) / X.shape[1]\n",
    "    \n",
    "    # Backpropagate through hidden layers\n",
    "    for i in reversed(range(1, num_layers)):\n",
    "        dA = np.dot(params[f'W{i+1}'].T, dZ)\n",
    "        dZ = dA * d_ReLU2(caches[f'Z{i}'])\n",
    "        grads[f'dW{i}'] = np.dot(dZ, caches[f'A{i-1}'].T) / X.shape[1]\n",
    "        grads[f'db{i}'] = np.sum(dZ, axis=1, keepdims=True) / X.shape[1]\n",
    "        dZ = dA\n",
    "    \n",
    "    # Update parameters\n",
    "    for i in range(1, num_layers + 1):\n",
    "        params[f'W{i}'] -= learning_rate * grads[f'dW{i}']\n",
    "        params[f'b{i}'] -= learning_rate * grads[f'db{i}']\n",
    "    \n",
    "    return params\n"
   ]
  },
  {
   "cell_type": "code",
   "execution_count": null,
   "metadata": {},
   "outputs": [],
   "source": [
    "def train2(X_train, y_train, input_size, num_hidden_layers, initial_hidden_layer_size, output_size, epochs, learning_rate):\n",
    "    # Initialize parameters\n",
    "    params = xavier_initialization(input_size, num_hidden_layers, initial_hidden_layer_size, output_size)\n",
    "    acc = []\n",
    "    \n",
    "    for epoch in range(epochs):\n",
    "        # Perform backpropagation and update parameters\n",
    "        params = backpropagation2(X_train, y_train, params, learning_rate)\n",
    "        acc.append(evaluate2(X_train, y_train, params))\n",
    "        \n",
    "        # Print accuracy every 5 epochs\n",
    "        if epoch % 5 == 0:\n",
    "            print(f'Accuracy at iteration {epoch}: {acc[-1]}')\n",
    "    \n",
    "    return params, acc\n"
   ]
  },
  {
   "cell_type": "code",
   "execution_count": null,
   "metadata": {},
   "outputs": [],
   "source": [
    "input_size = 32*32  # Flattened input size\n",
    "num_hidden_layers = 3  # Number of hidden layers\n",
    "initial_hidden_layer_size = 512  # Initial number of neurons in the first hidden layer\n",
    "output_size = 15  # Output size\n",
    "epochs = 1000  # Number of training epochs\n",
    "learning_rate = 0.01  # Learning rate\n",
    "\n",
    "params, acc = train2(X_train, y_train, input_size, num_hidden_layers, initial_hidden_layer_size, output_size, epochs, learning_rate)"
   ]
  },
  {
   "cell_type": "code",
   "execution_count": null,
   "metadata": {},
   "outputs": [],
   "source": [
    "plt.figure(figsize=(12, 4))\n",
    "plt.plot(acc)\n",
    "plt.xlabel('Epochs')\n",
    "plt.ylabel('Accuracy')\n",
    "plt.title('Training Accuracy')\n",
    "\n",
    "plt.show()"
   ]
  },
  {
   "cell_type": "code",
   "execution_count": null,
   "metadata": {},
   "outputs": [],
   "source": [
    "accuracy = evaluate_test_data(X_test, y_test.T, kaiming_initialization(input_size, num_hidden_layers, initial_hidden_layer_size, output_size))"
   ]
  },
  {
   "cell_type": "code",
   "execution_count": null,
   "metadata": {},
   "outputs": [],
   "source": [
    "accuracy"
   ]
  },
  {
   "cell_type": "code",
   "execution_count": null,
   "metadata": {},
   "outputs": [],
   "source": [
    "y_test.shape"
   ]
  },
  {
   "cell_type": "code",
   "execution_count": null,
   "metadata": {},
   "outputs": [],
   "source": [
    "def plot_image_with_prediction(X_test, y_test, params, num_samples=5):\n",
    "    \n",
    "    # Forward propagation on test data\n",
    "    caches = forward_prop2(X_test, params)\n",
    "    \n",
    "    # Extract the final activation from caches\n",
    "    A_test = caches[f'A{len(params) // 2}']\n",
    "    \n",
    "    # Convert A_test to predictions\n",
    "    predictions = np.argmax(A_test, axis=0)\n",
    "    \n",
    "    # Randomly select samples to plot\n",
    "    indices = np.random.choice(X_test.shape[1], num_samples, replace=False)\n",
    "    \n",
    "    fig, axes = plt.subplots(1, num_samples, figsize=(15, 5), tight_layout=True)\n",
    "    \n",
    "    for i, index in enumerate(indices):\n",
    "        # Get image and true label\n",
    "        image = X_test[:, index].reshape(32, 32)  # Adjust image size here\n",
    "        true_label = y_test[index]\n",
    "        \n",
    "        # Get predicted label\n",
    "        predicted_label = predictions[index]\n",
    "        \n",
    "        # Plot the image\n",
    "        ax = axes[i]\n",
    "        ax.imshow(image, cmap='gray')\n",
    "        ax.set_title(f\"True: {true_label}\\nPred: {predicted_label}\")\n",
    "        ax.axis('off')\n",
    "    \n",
    "    plt.show()"
   ]
  },
  {
   "cell_type": "code",
   "execution_count": null,
   "metadata": {},
   "outputs": [],
   "source": [
    "plot_image_with_prediction(X_test, y_label, params, num_samples=5)"
   ]
  },
  {
   "cell_type": "code",
   "execution_count": 24,
   "metadata": {},
   "outputs": [],
   "source": [
    "def tanh(Z):\n",
    "    Z = np.array(Z)\n",
    "    return np.tanh(Z)\n",
    "\n",
    "def d_tanh(Z):\n",
    "    Z = np.array(Z)\n",
    "    return 1 - np.tanh(Z)**2"
   ]
  },
  {
   "cell_type": "code",
   "execution_count": 23,
   "metadata": {},
   "outputs": [],
   "source": [
    "def sigmoid(Z):\n",
    "    Z = np.array(Z)\n",
    "    return 1 / (1 + np.exp(-Z))\n",
    "\n",
    "def d_sigmoid(Z):\n",
    "    Z = np.array(Z)\n",
    "    s = sigmoid(Z)\n",
    "    return s * (1 - s)"
   ]
  },
  {
   "cell_type": "code",
   "execution_count": 31,
   "metadata": {},
   "outputs": [],
   "source": [
    "def forward_prop3(X, params, activation='tanh'):\n",
    "    caches = {}\n",
    "    A = X\n",
    "    caches['A0'] = A  # Store the input data\n",
    "    \n",
    "    num_layers = len(params) // 2  # Number of layers (excluding input layer)\n",
    "    \n",
    "    for i in range(1, num_layers):\n",
    "        W = params[f'W{i}'].astype(np.float32)\n",
    "        b = params[f'b{i}'].astype(np.float32)\n",
    "        Z = np.dot(W, A) + b\n",
    "        \n",
    "        if activation == 'tanh':\n",
    "            A = tanh(Z)\n",
    "        elif activation == 'sigmoid':\n",
    "            A = sigmoid(Z)\n",
    "        else:\n",
    "            raise ValueError(\"Unsupported activation function\")\n",
    "        \n",
    "        caches[f'Z{i}'] = Z\n",
    "        caches[f'A{i}'] = A\n",
    "    \n",
    "    # Output layer\n",
    "    W = params[f'W{num_layers}']\n",
    "    b = params[f'b{num_layers}']\n",
    "    Z = np.dot(W, A) + b\n",
    "    A = softmax(Z)\n",
    "    caches[f'Z{num_layers}'] = Z\n",
    "    caches[f'A{num_layers}'] = A\n",
    "    \n",
    "    return caches\n"
   ]
  },
  {
   "cell_type": "code",
   "execution_count": 32,
   "metadata": {},
   "outputs": [],
   "source": [
    "def backpropagation3(X, y_true, params, learning_rate, activation='tanh'):\n",
    "    caches = forward_prop3(X, params, activation)\n",
    "    grads = {}\n",
    "    num_layers = len(params) // 2\n",
    "    m = X.shape[1]\n",
    "    \n",
    "    # Output layer gradient\n",
    "    dZ = caches[f'A{num_layers}'] - y_true.T\n",
    "    grads[f'dW{num_layers}'] = (1 / m) * np.dot(dZ, caches[f'A{num_layers - 1}'].T)\n",
    "    grads[f'db{num_layers}'] = (1 / m) * np.sum(dZ, axis=1, keepdims=True)\n",
    "    \n",
    "    # Gradients for hidden layers\n",
    "    for l in range(num_layers - 1, 0, -1):\n",
    "        dA = np.dot(params[f'W{l+1}'].T, dZ)\n",
    "        if activation == 'tanh':\n",
    "            dZ = dA * d_tanh(caches[f'Z{l}'])\n",
    "        elif activation == 'sigmoid':\n",
    "            dZ = dA * d_sigmoid(caches[f'Z{l}'])\n",
    "        else:\n",
    "            raise ValueError(\"Unsupported activation function\")\n",
    "        \n",
    "        grads[f'dW{l}'] = (1 / m) * np.dot(dZ, caches[f'A{l-1}'].T)\n",
    "        grads[f'db{l}'] = (1 / m) * np.sum(dZ, axis=1, keepdims=True)\n",
    "    \n",
    "    # Update parameters\n",
    "    for l in range(1, num_layers + 1):\n",
    "        params[f'W{l}'] -= learning_rate * grads[f'dW{l}']\n",
    "        params[f'b{l}'] -= learning_rate * grads[f'db{l}']\n",
    "    \n",
    "    return params\n"
   ]
  },
  {
   "cell_type": "code",
   "execution_count": 42,
   "metadata": {},
   "outputs": [],
   "source": [
    "def evaluate3(X, y_true, params, activation):\n",
    "    caches = forward_prop3(X, params, activation)\n",
    "    A_last = caches[f'A{len(params)//2}']\n",
    "    predictions = np.argmax(A_last, axis=0)\n",
    "    accuracy = np.mean(predictions == np.argmax(y_true, axis=1))\n",
    "    return accuracy"
   ]
  },
  {
   "cell_type": "code",
   "execution_count": 44,
   "metadata": {},
   "outputs": [],
   "source": [
    "def train3(X_train, y_train, input_size, num_hidden_layers, initial_hidden_layer_size, output_size, epochs, learning_rate, activation='tanh'):\n",
    "    params = xavier_initialization(input_size, num_hidden_layers, initial_hidden_layer_size, output_size)\n",
    "\n",
    "    # Initialize lists to keep track of loss and accuracy\n",
    "    accuracies = []\n",
    "\n",
    "    for epoch in range(epochs):\n",
    "        # Perform forward and backward propagation\n",
    "        caches = forward_prop3(X_train, params, activation)\n",
    "        params = backpropagation3(X_train, y_train, params, learning_rate, activation)\n",
    "        \n",
    "        # Compute loss and accuracy\n",
    "        accuracy = evaluate3(X_train, y_train, params, activation)\n",
    "        accuracies.append(accuracy)\n",
    "        \n",
    "        if epoch % 5 == 0:\n",
    "            print(f'Epoch {epoch}: Accuracy = {accuracy}')\n",
    "\n",
    "    return params, accuracies\n"
   ]
  },
  {
   "cell_type": "code",
   "execution_count": 49,
   "metadata": {},
   "outputs": [
    {
     "name": "stdout",
     "output_type": "stream",
     "text": [
      "Epoch 0: Accuracy = 0.07333333333333333\n",
      "Epoch 5: Accuracy = 0.07408333333333333\n",
      "Epoch 10: Accuracy = 0.0745\n",
      "Epoch 15: Accuracy = 0.07508333333333334\n",
      "Epoch 20: Accuracy = 0.07541666666666667\n",
      "Epoch 25: Accuracy = 0.07625\n",
      "Epoch 30: Accuracy = 0.07683333333333334\n",
      "Epoch 35: Accuracy = 0.07766666666666666\n",
      "Epoch 40: Accuracy = 0.07775\n",
      "Epoch 45: Accuracy = 0.07883333333333334\n",
      "Epoch 50: Accuracy = 0.07941666666666666\n",
      "Epoch 55: Accuracy = 0.08025\n",
      "Epoch 60: Accuracy = 0.082\n",
      "Epoch 65: Accuracy = 0.08366666666666667\n",
      "Epoch 70: Accuracy = 0.08475\n",
      "Epoch 75: Accuracy = 0.08533333333333333\n",
      "Epoch 80: Accuracy = 0.08666666666666667\n",
      "Epoch 85: Accuracy = 0.08675\n",
      "Epoch 90: Accuracy = 0.08808333333333333\n",
      "Epoch 95: Accuracy = 0.08925\n",
      "Epoch 100: Accuracy = 0.09066666666666667\n",
      "Epoch 105: Accuracy = 0.092\n",
      "Epoch 110: Accuracy = 0.09225\n",
      "Epoch 115: Accuracy = 0.09316666666666666\n",
      "Epoch 120: Accuracy = 0.09433333333333334\n",
      "Epoch 125: Accuracy = 0.09525\n",
      "Epoch 130: Accuracy = 0.09691666666666666\n",
      "Epoch 135: Accuracy = 0.09858333333333333\n",
      "Epoch 140: Accuracy = 0.09858333333333333\n",
      "Epoch 145: Accuracy = 0.10008333333333333\n",
      "Epoch 150: Accuracy = 0.10125\n",
      "Epoch 155: Accuracy = 0.1025\n",
      "Epoch 160: Accuracy = 0.10258333333333333\n",
      "Epoch 165: Accuracy = 0.10308333333333333\n",
      "Epoch 170: Accuracy = 0.10266666666666667\n",
      "Epoch 175: Accuracy = 0.10308333333333333\n",
      "Epoch 180: Accuracy = 0.10425\n",
      "Epoch 185: Accuracy = 0.10466666666666667\n",
      "Epoch 190: Accuracy = 0.10533333333333333\n",
      "Epoch 195: Accuracy = 0.10633333333333334\n",
      "Epoch 200: Accuracy = 0.10666666666666667\n",
      "Epoch 205: Accuracy = 0.10733333333333334\n",
      "Epoch 210: Accuracy = 0.10791666666666666\n",
      "Epoch 215: Accuracy = 0.10808333333333334\n",
      "Epoch 220: Accuracy = 0.10891666666666666\n",
      "Epoch 225: Accuracy = 0.10941666666666666\n",
      "Epoch 230: Accuracy = 0.1105\n",
      "Epoch 235: Accuracy = 0.11208333333333333\n",
      "Epoch 240: Accuracy = 0.11291666666666667\n",
      "Epoch 245: Accuracy = 0.11366666666666667\n",
      "Epoch 250: Accuracy = 0.11458333333333333\n",
      "Epoch 255: Accuracy = 0.1155\n",
      "Epoch 260: Accuracy = 0.11566666666666667\n",
      "Epoch 265: Accuracy = 0.11625\n",
      "Epoch 270: Accuracy = 0.11758333333333333\n",
      "Epoch 275: Accuracy = 0.11841666666666667\n",
      "Epoch 280: Accuracy = 0.1185\n",
      "Epoch 285: Accuracy = 0.119\n",
      "Epoch 290: Accuracy = 0.12016666666666667\n",
      "Epoch 295: Accuracy = 0.12091666666666667\n",
      "Epoch 300: Accuracy = 0.12133333333333333\n",
      "Epoch 305: Accuracy = 0.12175\n",
      "Epoch 310: Accuracy = 0.12233333333333334\n",
      "Epoch 315: Accuracy = 0.12208333333333334\n",
      "Epoch 320: Accuracy = 0.12241666666666666\n",
      "Epoch 325: Accuracy = 0.12216666666666667\n",
      "Epoch 330: Accuracy = 0.12291666666666666\n",
      "Epoch 335: Accuracy = 0.1235\n",
      "Epoch 340: Accuracy = 0.12458333333333334\n",
      "Epoch 345: Accuracy = 0.12525\n",
      "Epoch 350: Accuracy = 0.12525\n",
      "Epoch 355: Accuracy = 0.12566666666666668\n",
      "Epoch 360: Accuracy = 0.12575\n",
      "Epoch 365: Accuracy = 0.12591666666666668\n",
      "Epoch 370: Accuracy = 0.126\n",
      "Epoch 375: Accuracy = 0.12633333333333333\n",
      "Epoch 380: Accuracy = 0.12591666666666668\n",
      "Epoch 385: Accuracy = 0.12641666666666668\n",
      "Epoch 390: Accuracy = 0.12675\n",
      "Epoch 395: Accuracy = 0.12775\n",
      "Epoch 400: Accuracy = 0.128\n",
      "Epoch 405: Accuracy = 0.12816666666666668\n",
      "Epoch 410: Accuracy = 0.12833333333333333\n",
      "Epoch 415: Accuracy = 0.12866666666666668\n",
      "Epoch 420: Accuracy = 0.12966666666666668\n",
      "Epoch 425: Accuracy = 0.12975\n",
      "Epoch 430: Accuracy = 0.12966666666666668\n",
      "Epoch 435: Accuracy = 0.12983333333333333\n",
      "Epoch 440: Accuracy = 0.12991666666666668\n",
      "Epoch 445: Accuracy = 0.13\n",
      "Epoch 450: Accuracy = 0.13025\n",
      "Epoch 455: Accuracy = 0.13066666666666665\n",
      "Epoch 460: Accuracy = 0.13125\n",
      "Epoch 465: Accuracy = 0.13141666666666665\n",
      "Epoch 470: Accuracy = 0.13125\n",
      "Epoch 475: Accuracy = 0.132\n",
      "Epoch 480: Accuracy = 0.13166666666666665\n",
      "Epoch 485: Accuracy = 0.132\n",
      "Epoch 490: Accuracy = 0.13225\n",
      "Epoch 495: Accuracy = 0.13266666666666665\n",
      "Epoch 500: Accuracy = 0.13308333333333333\n",
      "Epoch 505: Accuracy = 0.13375\n",
      "Epoch 510: Accuracy = 0.13425\n",
      "Epoch 515: Accuracy = 0.13433333333333333\n",
      "Epoch 520: Accuracy = 0.13466666666666666\n",
      "Epoch 525: Accuracy = 0.13516666666666666\n",
      "Epoch 530: Accuracy = 0.13525\n",
      "Epoch 535: Accuracy = 0.13558333333333333\n",
      "Epoch 540: Accuracy = 0.13625\n",
      "Epoch 545: Accuracy = 0.1365\n",
      "Epoch 550: Accuracy = 0.13658333333333333\n",
      "Epoch 555: Accuracy = 0.13675\n",
      "Epoch 560: Accuracy = 0.13716666666666666\n",
      "Epoch 565: Accuracy = 0.1375\n",
      "Epoch 570: Accuracy = 0.13783333333333334\n",
      "Epoch 575: Accuracy = 0.13791666666666666\n",
      "Epoch 580: Accuracy = 0.13841666666666666\n",
      "Epoch 585: Accuracy = 0.13875\n",
      "Epoch 590: Accuracy = 0.13925\n",
      "Epoch 595: Accuracy = 0.1395\n",
      "Epoch 600: Accuracy = 0.13983333333333334\n",
      "Epoch 605: Accuracy = 0.14008333333333334\n",
      "Epoch 610: Accuracy = 0.14033333333333334\n",
      "Epoch 615: Accuracy = 0.14083333333333334\n",
      "Epoch 620: Accuracy = 0.14125\n",
      "Epoch 625: Accuracy = 0.14183333333333334\n",
      "Epoch 630: Accuracy = 0.14191666666666666\n",
      "Epoch 635: Accuracy = 0.142\n",
      "Epoch 640: Accuracy = 0.14241666666666666\n",
      "Epoch 645: Accuracy = 0.14383333333333334\n",
      "Epoch 650: Accuracy = 0.14425\n",
      "Epoch 655: Accuracy = 0.14466666666666667\n",
      "Epoch 660: Accuracy = 0.145\n",
      "Epoch 665: Accuracy = 0.14541666666666667\n",
      "Epoch 670: Accuracy = 0.14641666666666667\n",
      "Epoch 675: Accuracy = 0.14683333333333334\n",
      "Epoch 680: Accuracy = 0.1475\n",
      "Epoch 685: Accuracy = 0.14733333333333334\n",
      "Epoch 690: Accuracy = 0.1475\n",
      "Epoch 695: Accuracy = 0.14833333333333334\n",
      "Epoch 700: Accuracy = 0.14875\n",
      "Epoch 705: Accuracy = 0.14891666666666667\n",
      "Epoch 710: Accuracy = 0.14933333333333335\n",
      "Epoch 715: Accuracy = 0.14991666666666667\n",
      "Epoch 720: Accuracy = 0.1505\n",
      "Epoch 725: Accuracy = 0.15116666666666667\n",
      "Epoch 730: Accuracy = 0.15191666666666667\n",
      "Epoch 735: Accuracy = 0.15225\n",
      "Epoch 740: Accuracy = 0.15275\n",
      "Epoch 745: Accuracy = 0.15341666666666667\n",
      "Epoch 750: Accuracy = 0.15383333333333332\n",
      "Epoch 755: Accuracy = 0.15433333333333332\n",
      "Epoch 760: Accuracy = 0.15491666666666667\n",
      "Epoch 765: Accuracy = 0.1555\n",
      "Epoch 770: Accuracy = 0.156\n",
      "Epoch 775: Accuracy = 0.15666666666666668\n",
      "Epoch 780: Accuracy = 0.15733333333333333\n",
      "Epoch 785: Accuracy = 0.15775\n",
      "Epoch 790: Accuracy = 0.15875\n",
      "Epoch 795: Accuracy = 0.15883333333333333\n",
      "Epoch 800: Accuracy = 0.15925\n",
      "Epoch 805: Accuracy = 0.15983333333333333\n",
      "Epoch 810: Accuracy = 0.16066666666666668\n",
      "Epoch 815: Accuracy = 0.16141666666666668\n",
      "Epoch 820: Accuracy = 0.16158333333333333\n",
      "Epoch 825: Accuracy = 0.16208333333333333\n",
      "Epoch 830: Accuracy = 0.16208333333333333\n",
      "Epoch 835: Accuracy = 0.16258333333333333\n",
      "Epoch 840: Accuracy = 0.163\n",
      "Epoch 845: Accuracy = 0.16358333333333333\n",
      "Epoch 850: Accuracy = 0.16416666666666666\n",
      "Epoch 855: Accuracy = 0.16475\n",
      "Epoch 860: Accuracy = 0.16575\n",
      "Epoch 865: Accuracy = 0.16641666666666666\n",
      "Epoch 870: Accuracy = 0.167\n",
      "Epoch 875: Accuracy = 0.16766666666666666\n",
      "Epoch 880: Accuracy = 0.1685\n",
      "Epoch 885: Accuracy = 0.16941666666666666\n",
      "Epoch 890: Accuracy = 0.17033333333333334\n",
      "Epoch 895: Accuracy = 0.17025\n",
      "Epoch 900: Accuracy = 0.1705\n",
      "Epoch 905: Accuracy = 0.17091666666666666\n",
      "Epoch 910: Accuracy = 0.17183333333333334\n",
      "Epoch 915: Accuracy = 0.17258333333333334\n",
      "Epoch 920: Accuracy = 0.17366666666666666\n",
      "Epoch 925: Accuracy = 0.17466666666666666\n",
      "Epoch 930: Accuracy = 0.17541666666666667\n",
      "Epoch 935: Accuracy = 0.17558333333333334\n",
      "Epoch 940: Accuracy = 0.17633333333333334\n",
      "Epoch 945: Accuracy = 0.177\n",
      "Epoch 950: Accuracy = 0.17733333333333334\n",
      "Epoch 955: Accuracy = 0.17775\n",
      "Epoch 960: Accuracy = 0.17841666666666667\n",
      "Epoch 965: Accuracy = 0.17941666666666667\n",
      "Epoch 970: Accuracy = 0.17983333333333335\n",
      "Epoch 975: Accuracy = 0.18033333333333335\n",
      "Epoch 980: Accuracy = 0.1805\n",
      "Epoch 985: Accuracy = 0.18141666666666667\n",
      "Epoch 990: Accuracy = 0.18166666666666667\n",
      "Epoch 995: Accuracy = 0.18183333333333335\n"
     ]
    }
   ],
   "source": [
    "# Set your parameters\n",
    "input_size = 32*32  # Size of the input layer (adjust as needed)\n",
    "num_hidden_layers = 3  # Number of hidden layers\n",
    "initial_hidden_layer_size = 512  # Size of the first hidden layer\n",
    "output_size = 15  # Number of classes\n",
    "epochs = 1000  # Number of epochs for training\n",
    "learning_rate = 0.01  # Learning rate\n",
    "\n",
    "# Choose the activation function ('tanh' or 'sigmoid')\n",
    "activation_function = 'tanh'\n",
    "\n",
    "# Train the neural network\n",
    "params, accuracies = train3(X_train, y_train, input_size, num_hidden_layers, initial_hidden_layer_size, output_size, epochs, learning_rate, activation=activation_function)\n"
   ]
  },
  {
   "cell_type": "code",
   "execution_count": null,
   "metadata": {},
   "outputs": [],
   "source": [
    "\n",
    "# Evaluate the model on test data\n",
    "test_accuracy = evaluate_test_data(X_test, y_test, params, activation=activation_function)\n",
    "print(f\"Test Accuracy: {test_accuracy}%\")"
   ]
  },
  {
   "cell_type": "code",
   "execution_count": null,
   "metadata": {},
   "outputs": [],
   "source": [
    "y_train.shape"
   ]
  },
  {
   "cell_type": "code",
   "execution_count": 52,
   "metadata": {},
   "outputs": [
    {
     "data": {
      "image/png": "[encoded data removed]",
      "text/plain": [
       "<Figure size 1000x600 with 1 Axes>"
      ]
     },
     "metadata": {},
     "output_type": "display_data"
    }
   ],
   "source": [
    "plt.figure(figsize=(10, 6))\n",
    "plt.plot(accuracies)\n",
    "plt.xlabel('Iterations')\n",
    "plt.ylabel('Accuracy')\n",
    "plt.title('Training Accuracy')\n",
    "\n",
    "plt.show()"
   ]
  },
  {
   "cell_type": "code",
   "execution_count": 14,
   "metadata": {},
   "outputs": [],
   "source": [
    "def forward_prop_drop(X, params, keep_prob=1.0, activation='sigmoid', train=True):\n",
    "    caches = {}\n",
    "    A = X\n",
    "    caches['A0'] = A  # Store the input data\n",
    "    \n",
    "    num_layers = len(params) // 2  # Number of layers (excluding input layer)\n",
    "    \n",
    "    for i in range(1, num_layers):\n",
    "        W = params[f'W{i}'].astype(np.float32)\n",
    "        b = params[f'b{i}'].astype(np.float32)\n",
    "        Z = np.dot(W, A) + b\n",
    "        \n",
    "        if activation == 'sigmoid':\n",
    "            A = sigmoid(Z)\n",
    "        elif activation == 'tanh':\n",
    "            A = tanh(Z)\n",
    "        elif activation == 'relu':\n",
    "            A = ReLU2(Z)\n",
    "        \n",
    "        if train:\n",
    "            D = np.random.rand(A.shape[0], A.shape[1]) < keep_prob\n",
    "            A = A * D\n",
    "            A = A / keep_prob\n",
    "            caches[f'D{i}'] = D\n",
    "        \n",
    "        caches[f'Z{i}'] = Z\n",
    "        caches[f'A{i}'] = A\n",
    "    \n",
    "    # Output layer\n",
    "    W = params[f'W{num_layers}']\n",
    "    b = params[f'b{num_layers}']\n",
    "    Z = np.dot(W, A) + b\n",
    "    A = softmax(Z)\n",
    "    caches[f'Z{num_layers}'] = Z\n",
    "    caches[f'A{num_layers}'] = A\n",
    "    \n",
    "    return caches\n"
   ]
  },
  {
   "cell_type": "code",
   "execution_count": 17,
   "metadata": {},
   "outputs": [],
   "source": [
    "def backpropagation_drop(X, y_true, params, learning_rate, keep_prob=1.0, activation='sigmoid'):\n",
    "    caches = forward_prop_drop(X, params, keep_prob=keep_prob, activation=activation, train=True)\n",
    "    grads = {}\n",
    "    num_layers = len(params) // 2\n",
    "    m = X.shape[1]\n",
    "    \n",
    "    # Output layer gradients\n",
    "    A_last = caches[f'A{num_layers}']\n",
    "    dZ_last = A_last - y_true.T\n",
    "    grads[f'dW{num_layers}'] = np.dot(dZ_last, caches[f'A{num_layers-1}'].T) / m\n",
    "    grads[f'db{num_layers}'] = np.sum(dZ_last, axis=1, keepdims=True) / m\n",
    "    \n",
    "    for i in reversed(range(1, num_layers)):\n",
    "        dA = np.dot(params[f'W{i+1}'].T, dZ_last)\n",
    "        if keep_prob < 1.0:\n",
    "            D = caches[f'D{i}']\n",
    "            dA = dA * D\n",
    "            dA = dA / keep_prob\n",
    "        \n",
    "        Z = caches[f'Z{i}']\n",
    "        if activation == 'sigmoid':\n",
    "            dZ = dA * d_sigmoid(Z)\n",
    "        elif activation == 'tanh':\n",
    "            dZ = dA * d_tanh(Z)\n",
    "        elif activation == 'relu':\n",
    "            dZ = dA * d_ReLU2(Z)\n",
    "        \n",
    "        grads[f'dW{i}'] = np.dot(dZ, caches[f'A{i-1}'].T) / m\n",
    "        grads[f'db{i}'] = np.sum(dZ, axis=1, keepdims=True) / m\n",
    "        dZ_last = dZ\n",
    "    \n",
    "    for i in range(1, num_layers + 1):\n",
    "        params[f'W{i}'] -= learning_rate * grads[f'dW{i}']\n",
    "        params[f'b{i}'] -= learning_rate * grads[f'db{i}']\n",
    "    \n",
    "    return params\n"
   ]
  },
  {
   "cell_type": "code",
   "execution_count": 29,
   "metadata": {},
   "outputs": [],
   "source": [
    "def evaluate_drop(X, y_true, params, activation):\n",
    "    caches = forward_prop_drop(X, params,keep_prob=0.7, activation=activation,  train=True)\n",
    "    A_last = caches[f'A{len(params)//2}']\n",
    "    predictions = np.argmax(A_last, axis=0)\n",
    "    accuracy = np.mean(predictions == np.argmax(y_true, axis=1))\n",
    "    return accuracy"
   ]
  },
  {
   "cell_type": "code",
   "execution_count": 31,
   "metadata": {},
   "outputs": [],
   "source": [
    "def train_drop(X_train, y_train, input_size, num_hidden_layers, initial_hidden_layer_size, output_size, epochs, learning_rate, keep_prob=1.0, activation='sigmoid'):\n",
    "    params = kaiming_initialization(input_size, num_hidden_layers, initial_hidden_layer_size, output_size)\n",
    "    accuracies = []\n",
    "\n",
    "    for epoch in range(epochs):\n",
    "        # Perform backpropagation and update parameters\n",
    "        params = backpropagation_drop(X_train, y_train, params, learning_rate, keep_prob=keep_prob, activation=activation)\n",
    "        \n",
    "        # Calculate accuracy on training data\n",
    "        accuracy = evaluate_drop(X_train, y_train, params, activation=activation)\n",
    "        accuracies.append(accuracy)\n",
    "\n",
    "        # Optionally, calculate and store the loss (if needed)\n",
    "        if epoch % 5 == 0:\n",
    "            print(f'Epoch {epoch}: Accuracy = {accuracy}')\n",
    "    \n",
    "    return params, accuracies\n"
   ]
  },
  {
   "cell_type": "code",
   "execution_count": 32,
   "metadata": {},
   "outputs": [
    {
     "name": "stdout",
     "output_type": "stream",
     "text": [
      "Epoch 0: Accuracy = 0.07025\n",
      "Epoch 5: Accuracy = 0.07083333333333333\n",
      "Epoch 10: Accuracy = 0.06916666666666667\n",
      "Epoch 15: Accuracy = 0.06816666666666667\n",
      "Epoch 20: Accuracy = 0.07325\n",
      "Epoch 25: Accuracy = 0.07108333333333333\n",
      "Epoch 30: Accuracy = 0.06758333333333333\n",
      "Epoch 35: Accuracy = 0.06691666666666667\n",
      "Epoch 40: Accuracy = 0.06833333333333333\n",
      "Epoch 45: Accuracy = 0.07075\n",
      "Epoch 50: Accuracy = 0.06716666666666667\n",
      "Epoch 55: Accuracy = 0.06925\n",
      "Epoch 60: Accuracy = 0.07425\n",
      "Epoch 65: Accuracy = 0.07233333333333333\n",
      "Epoch 70: Accuracy = 0.07141666666666667\n",
      "Epoch 75: Accuracy = 0.06875\n",
      "Epoch 80: Accuracy = 0.07391666666666667\n",
      "Epoch 85: Accuracy = 0.07225\n",
      "Epoch 90: Accuracy = 0.07208333333333333\n",
      "Epoch 95: Accuracy = 0.07058333333333333\n",
      "Epoch 100: Accuracy = 0.07425\n",
      "Epoch 105: Accuracy = 0.06808333333333333\n",
      "Epoch 110: Accuracy = 0.073\n",
      "Epoch 115: Accuracy = 0.07508333333333334\n",
      "Epoch 120: Accuracy = 0.07383333333333333\n",
      "Epoch 125: Accuracy = 0.07375\n",
      "Epoch 130: Accuracy = 0.07408333333333333\n",
      "Epoch 135: Accuracy = 0.06908333333333333\n",
      "Epoch 140: Accuracy = 0.075\n",
      "Epoch 145: Accuracy = 0.07141666666666667\n",
      "Epoch 150: Accuracy = 0.07633333333333334\n",
      "Epoch 155: Accuracy = 0.07491666666666667\n",
      "Epoch 160: Accuracy = 0.07066666666666667\n",
      "Epoch 165: Accuracy = 0.07466666666666667\n",
      "Epoch 170: Accuracy = 0.07833333333333334\n",
      "Epoch 175: Accuracy = 0.07241666666666667\n",
      "Epoch 180: Accuracy = 0.07491666666666667\n",
      "Epoch 185: Accuracy = 0.07233333333333333\n",
      "Epoch 190: Accuracy = 0.07425\n",
      "Epoch 195: Accuracy = 0.07741666666666666\n",
      "Epoch 200: Accuracy = 0.07416666666666667\n",
      "Epoch 205: Accuracy = 0.07608333333333334\n",
      "Epoch 210: Accuracy = 0.07725\n",
      "Epoch 215: Accuracy = 0.07591666666666666\n",
      "Epoch 220: Accuracy = 0.07525\n",
      "Epoch 225: Accuracy = 0.07066666666666667\n",
      "Epoch 230: Accuracy = 0.07966666666666666\n",
      "Epoch 235: Accuracy = 0.07641666666666666\n",
      "Epoch 240: Accuracy = 0.07783333333333334\n",
      "Epoch 245: Accuracy = 0.07716666666666666\n",
      "Epoch 250: Accuracy = 0.076\n",
      "Epoch 255: Accuracy = 0.07775\n",
      "Epoch 260: Accuracy = 0.07441666666666667\n",
      "Epoch 265: Accuracy = 0.07925\n",
      "Epoch 270: Accuracy = 0.07741666666666666\n",
      "Epoch 275: Accuracy = 0.07608333333333334\n",
      "Epoch 280: Accuracy = 0.07616666666666666\n",
      "Epoch 285: Accuracy = 0.07625\n",
      "Epoch 290: Accuracy = 0.07891666666666666\n",
      "Epoch 295: Accuracy = 0.07633333333333334\n",
      "Epoch 300: Accuracy = 0.08216666666666667\n",
      "Epoch 305: Accuracy = 0.08091666666666666\n",
      "Epoch 310: Accuracy = 0.08183333333333333\n",
      "Epoch 315: Accuracy = 0.07766666666666666\n",
      "Epoch 320: Accuracy = 0.083\n",
      "Epoch 325: Accuracy = 0.08358333333333333\n",
      "Epoch 330: Accuracy = 0.083\n",
      "Epoch 335: Accuracy = 0.08191666666666667\n",
      "Epoch 340: Accuracy = 0.08\n",
      "Epoch 345: Accuracy = 0.07816666666666666\n",
      "Epoch 350: Accuracy = 0.07608333333333334\n",
      "Epoch 355: Accuracy = 0.07691666666666666\n",
      "Epoch 360: Accuracy = 0.07966666666666666\n",
      "Epoch 365: Accuracy = 0.082\n",
      "Epoch 370: Accuracy = 0.08558333333333333\n",
      "Epoch 375: Accuracy = 0.08116666666666666\n",
      "Epoch 380: Accuracy = 0.08141666666666666\n",
      "Epoch 385: Accuracy = 0.08066666666666666\n",
      "Epoch 390: Accuracy = 0.08175\n",
      "Epoch 395: Accuracy = 0.08525\n",
      "Epoch 400: Accuracy = 0.08308333333333333\n",
      "Epoch 405: Accuracy = 0.08316666666666667\n",
      "Epoch 410: Accuracy = 0.08408333333333333\n",
      "Epoch 415: Accuracy = 0.08066666666666666\n",
      "Epoch 420: Accuracy = 0.07716666666666666\n",
      "Epoch 425: Accuracy = 0.08458333333333333\n",
      "Epoch 430: Accuracy = 0.0845\n",
      "Epoch 435: Accuracy = 0.08366666666666667\n",
      "Epoch 440: Accuracy = 0.08616666666666667\n",
      "Epoch 445: Accuracy = 0.08583333333333333\n",
      "Epoch 450: Accuracy = 0.08741666666666667\n",
      "Epoch 455: Accuracy = 0.08775\n",
      "Epoch 460: Accuracy = 0.08208333333333333\n",
      "Epoch 465: Accuracy = 0.086\n",
      "Epoch 470: Accuracy = 0.09058333333333334\n",
      "Epoch 475: Accuracy = 0.08641666666666667\n",
      "Epoch 480: Accuracy = 0.08841666666666667\n",
      "Epoch 485: Accuracy = 0.08633333333333333\n",
      "Epoch 490: Accuracy = 0.08525\n",
      "Epoch 495: Accuracy = 0.09158333333333334\n",
      "Epoch 500: Accuracy = 0.08758333333333333\n",
      "Epoch 505: Accuracy = 0.09125\n",
      "Epoch 510: Accuracy = 0.09008333333333333\n",
      "Epoch 515: Accuracy = 0.08816666666666667\n",
      "Epoch 520: Accuracy = 0.08916666666666667\n",
      "Epoch 525: Accuracy = 0.08783333333333333\n",
      "Epoch 530: Accuracy = 0.088\n",
      "Epoch 535: Accuracy = 0.091\n",
      "Epoch 540: Accuracy = 0.08866666666666667\n",
      "Epoch 545: Accuracy = 0.09175\n",
      "Epoch 550: Accuracy = 0.08925\n",
      "Epoch 555: Accuracy = 0.09016666666666667\n",
      "Epoch 560: Accuracy = 0.09366666666666666\n",
      "Epoch 565: Accuracy = 0.09133333333333334\n",
      "Epoch 570: Accuracy = 0.09025\n",
      "Epoch 575: Accuracy = 0.08775\n",
      "Epoch 580: Accuracy = 0.09466666666666666\n",
      "Epoch 585: Accuracy = 0.09091666666666667\n",
      "Epoch 590: Accuracy = 0.092\n",
      "Epoch 595: Accuracy = 0.09375\n",
      "Epoch 600: Accuracy = 0.09533333333333334\n",
      "Epoch 605: Accuracy = 0.0905\n",
      "Epoch 610: Accuracy = 0.09625\n",
      "Epoch 615: Accuracy = 0.0975\n",
      "Epoch 620: Accuracy = 0.09391666666666666\n",
      "Epoch 625: Accuracy = 0.09608333333333334\n",
      "Epoch 630: Accuracy = 0.096\n",
      "Epoch 635: Accuracy = 0.09358333333333334\n",
      "Epoch 640: Accuracy = 0.09691666666666666\n",
      "Epoch 645: Accuracy = 0.09516666666666666\n",
      "Epoch 650: Accuracy = 0.09533333333333334\n",
      "Epoch 655: Accuracy = 0.09775\n",
      "Epoch 660: Accuracy = 0.09666666666666666\n",
      "Epoch 665: Accuracy = 0.09591666666666666\n",
      "Epoch 670: Accuracy = 0.097\n",
      "Epoch 675: Accuracy = 0.096\n",
      "Epoch 680: Accuracy = 0.09725\n",
      "Epoch 685: Accuracy = 0.09725\n",
      "Epoch 690: Accuracy = 0.09566666666666666\n",
      "Epoch 695: Accuracy = 0.09533333333333334\n",
      "Epoch 700: Accuracy = 0.095\n",
      "Epoch 705: Accuracy = 0.09708333333333333\n",
      "Epoch 710: Accuracy = 0.10091666666666667\n",
      "Epoch 715: Accuracy = 0.10016666666666667\n",
      "Epoch 720: Accuracy = 0.10316666666666667\n",
      "Epoch 725: Accuracy = 0.1\n",
      "Epoch 730: Accuracy = 0.10341666666666667\n",
      "Epoch 735: Accuracy = 0.10033333333333333\n",
      "Epoch 740: Accuracy = 0.1005\n",
      "Epoch 745: Accuracy = 0.10491666666666667\n",
      "Epoch 750: Accuracy = 0.09816666666666667\n",
      "Epoch 755: Accuracy = 0.0995\n",
      "Epoch 760: Accuracy = 0.10133333333333333\n",
      "Epoch 765: Accuracy = 0.09966666666666667\n",
      "Epoch 770: Accuracy = 0.09808333333333333\n",
      "Epoch 775: Accuracy = 0.10883333333333334\n",
      "Epoch 780: Accuracy = 0.10566666666666667\n",
      "Epoch 785: Accuracy = 0.10475\n",
      "Epoch 790: Accuracy = 0.1005\n",
      "Epoch 795: Accuracy = 0.10633333333333334\n",
      "Epoch 800: Accuracy = 0.1035\n",
      "Epoch 805: Accuracy = 0.09908333333333333\n",
      "Epoch 810: Accuracy = 0.09983333333333333\n",
      "Epoch 815: Accuracy = 0.09966666666666667\n",
      "Epoch 820: Accuracy = 0.10533333333333333\n",
      "Epoch 825: Accuracy = 0.10916666666666666\n",
      "Epoch 830: Accuracy = 0.10533333333333333\n",
      "Epoch 835: Accuracy = 0.10808333333333334\n",
      "Epoch 840: Accuracy = 0.11016666666666666\n",
      "Epoch 845: Accuracy = 0.10408333333333333\n",
      "Epoch 850: Accuracy = 0.10408333333333333\n",
      "Epoch 855: Accuracy = 0.10775\n",
      "Epoch 860: Accuracy = 0.10641666666666667\n",
      "Epoch 865: Accuracy = 0.10425\n",
      "Epoch 870: Accuracy = 0.10708333333333334\n",
      "Epoch 875: Accuracy = 0.10833333333333334\n",
      "Epoch 880: Accuracy = 0.106\n",
      "Epoch 885: Accuracy = 0.11533333333333333\n",
      "Epoch 890: Accuracy = 0.10858333333333334\n",
      "Epoch 895: Accuracy = 0.11008333333333334\n",
      "Epoch 900: Accuracy = 0.1055\n",
      "Epoch 905: Accuracy = 0.11375\n",
      "Epoch 910: Accuracy = 0.11258333333333333\n",
      "Epoch 915: Accuracy = 0.10766666666666666\n",
      "Epoch 920: Accuracy = 0.114\n",
      "Epoch 925: Accuracy = 0.11158333333333334\n",
      "Epoch 930: Accuracy = 0.10825\n",
      "Epoch 935: Accuracy = 0.1115\n",
      "Epoch 940: Accuracy = 0.11266666666666666\n",
      "Epoch 945: Accuracy = 0.10925\n",
      "Epoch 950: Accuracy = 0.11525\n",
      "Epoch 955: Accuracy = 0.11383333333333333\n",
      "Epoch 960: Accuracy = 0.11266666666666666\n",
      "Epoch 965: Accuracy = 0.11208333333333333\n",
      "Epoch 970: Accuracy = 0.11741666666666667\n",
      "Epoch 975: Accuracy = 0.11366666666666667\n",
      "Epoch 980: Accuracy = 0.11041666666666666\n",
      "Epoch 985: Accuracy = 0.11675\n",
      "Epoch 990: Accuracy = 0.11041666666666666\n",
      "Epoch 995: Accuracy = 0.11516666666666667\n"
     ]
    }
   ],
   "source": [
    "# Set your parameters\n",
    "input_size = 32*32  # Size of the input layer (adjust as needed)\n",
    "num_hidden_layers = 3  # Number of hidden layers\n",
    "initial_hidden_layer_size = 512  # Size of the first hidden layer\n",
    "output_size = 15  # Number of classes\n",
    "epochs = 1000  # Number of epochs for training\n",
    "learning_rate = 0.01  # Learning rate\n",
    "keep_prob = 0.7\n",
    "\n",
    "# Choose the activation function ('tanh' or 'sigmoid')\n",
    "activation_function = 'relu'\n",
    "\n",
    "# Train the neural network\n",
    "params, accuracies = train_drop(X_train, y_train, input_size, num_hidden_layers, initial_hidden_layer_size, output_size, epochs, learning_rate,keep_prob=keep_prob, activation=activation_function)\n"
   ]
  },
  {
   "cell_type": "code",
   "execution_count": 33,
   "metadata": {},
   "outputs": [
    {
     "data": {
      "image/png": "[encoded data removed]",
      "text/plain": [
       "<Figure size 1000x600 with 1 Axes>"
      ]
     },
     "metadata": {},
     "output_type": "display_data"
    }
   ],
   "source": [
    "plt.figure(figsize=(10, 6))\n",
    "plt.plot(accuracies)\n",
    "plt.xlabel('Iterations')\n",
    "plt.ylabel('Accuracy')\n",
    "plt.title('Training Accuracy')\n",
    "\n",
    "plt.show()"
   ]
  },
  {
   "cell_type": "code",
   "execution_count": null,
   "metadata": {},
   "outputs": [],
   "source": []
  }
 ],
 "metadata": {
  "kernelspec": {
   "display_name": "base",
   "language": "python",
   "name": "python3"
  },
  "language_info": {
   "codemirror_mode": {
    "name": "ipython",
    "version": 3
   },
   "file_extension": ".py",
   "mimetype": "text/x-python",
   "name": "python",
   "nbconvert_exporter": "python",
   "pygments_lexer": "ipython3",
   "version": "3.9.18"
  }
 },
 "nbformat": 4,
 "nbformat_minor": 2
}
